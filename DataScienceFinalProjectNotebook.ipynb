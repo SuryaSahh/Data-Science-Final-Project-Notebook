{
 "cells": [
  {
   "cell_type": "markdown",
   "id": "fc39fc29-4cb4-4e47-8cd4-e22792a2e60a",
   "metadata": {},
   "source": [
    "# Data Science Final Project Notebook"
   ]
  },
  {
   "cell_type": "markdown",
   "id": "71ec103f-54c0-45fd-861a-e14885546d35",
   "metadata": {},
   "source": [
    "This notebook summarizes essential data science tools and languages and provides examples of data manipulations."
   ]
  },
  {
   "cell_type": "markdown",
   "id": "30b966b5-aa74-488e-814e-4fe0a739bf35",
   "metadata": {},
   "source": [
    "popular data science languages, such as:\n",
    "- Python\n",
    "- R\n",
    "- SQL\n",
    "- Julia\n",
    "- java"
   ]
  },
  {
   "cell_type": "markdown",
   "id": "9ab1f174-1306-4383-84dd-bb7f5b556296",
   "metadata": {},
   "source": [
    "data science libraries :\n",
    "- Pandas\n",
    "- NumPy\n",
    "- Matplotlib\n",
    "- scikit-learn\n",
    "- TensorFlow\n"
   ]
  },
  {
   "cell_type": "markdown",
   "id": "1c916380-749f-4cb1-9710-537ff403f0bc",
   "metadata": {},
   "source": [
    "a table of data science tools:\n",
    "| Tool            | Description                       |\n",
    "|-----------------|-----------------------------------|\n",
    "| Jupyter Notebook| Interactive coding environment    |\n",
    "| RStudio         | IDE for R                         |\n",
    "| Apache Spark    | Distributed data processing       |\n"
   ]
  },
  {
   "cell_type": "markdown",
   "id": "50dd7793-f29c-4710-b16b-61bea45229a3",
   "metadata": {},
   "source": [
    "# Examples of simple arithmetic expressions are provided below."
   ]
  },
  {
   "cell_type": "code",
   "execution_count": 3,
   "id": "bf84152f-33aa-4a71-b088-e9db972937b5",
   "metadata": {},
   "outputs": [
    {
     "data": {
      "text/plain": [
       "23"
      ]
     },
     "execution_count": 3,
     "metadata": {},
     "output_type": "execute_result"
    }
   ],
   "source": [
    "# Example: Multiply and add\n",
    "result = (5 * 4) + 3\n",
    "result\n"
   ]
  },
  {
   "cell_type": "code",
   "execution_count": 4,
   "id": "b98c0925-2f78-4655-8176-04061e3254da",
   "metadata": {},
   "outputs": [
    {
     "data": {
      "text/plain": [
       "2.0"
      ]
     },
     "execution_count": 4,
     "metadata": {},
     "output_type": "execute_result"
    }
   ],
   "source": [
    "# Convert 120 minutes to hours\n",
    "minutes = 120\n",
    "hours = minutes / 60\n",
    "hours\n"
   ]
  },
  {
   "cell_type": "markdown",
   "id": "75ee18e9-3991-4e42-b999-f4f9841d7566",
   "metadata": {},
   "source": [
    "# objectives :\n",
    "- Introduce data science languages\n",
    "- List commonly used libraries\n",
    "- Showcase examples of arithmetic expressions\n"
   ]
  },
  {
   "cell_type": "markdown",
   "id": "de097b32-a6f1-4954-a391-b2a55db14b2a",
   "metadata": {},
   "source": [
    "\n",
    "**Author:** Surya Narayan Sah\n"
   ]
  },
  {
   "cell_type": "code",
   "execution_count": null,
   "id": "1e278d4f-6b13-4d19-9af9-0fe8c6814742",
   "metadata": {},
   "outputs": [],
   "source": []
  }
 ],
 "metadata": {
  "kernelspec": {
   "display_name": "Python 3 (ipykernel)",
   "language": "python",
   "name": "python3"
  },
  "language_info": {
   "codemirror_mode": {
    "name": "ipython",
    "version": 3
   },
   "file_extension": ".py",
   "mimetype": "text/x-python",
   "name": "python",
   "nbconvert_exporter": "python",
   "pygments_lexer": "ipython3",
   "version": "3.12.7"
  }
 },
 "nbformat": 4,
 "nbformat_minor": 5
}
